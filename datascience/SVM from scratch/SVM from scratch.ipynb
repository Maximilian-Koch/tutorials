{
 "cells": [
  {
   "cell_type": "markdown",
   "id": "06bf6bad",
   "metadata": {},
   "source": [
    "# From Scratch: Implementing a Support Vector Machine for Astronomical Classification\n",
    "\n",
    "Support Vector Machines (SVMs) are a powerful and versatile set of supervised learning models used for classification, regression, and outlier detection. The fundamental idea behind an SVM is to find a hyperplane in an N-dimensional space (where N is the number of features) that distinctly classifies the data points.\n",
    "\n",
    "In this tutorial, we'll go through the process of building a linear SVM from the ground up using Python. We'll first implement a binary classifier and then extend it to handle multiple classes using the One-vs-Rest (OVR) strategy. We'll apply our custom SVM to a dataset of astronomical objects, aiming to classify them as galaxies, stars, or quasars.\n",
    "\n",
    "The dataset is available [here](https://www.kaggle.com/datasets/muhakabartay/sloan-digital-sky-survey-dr16) or via the GitHub of [this tutorial]().\n",
    "\n",
    "-----\n",
    "\n",
    "## SVMs: The Core Idea\n",
    "\n",
    "The goal of an SVM is to find the optimal hyperplane that separates data points of different classes. \"Optimal\" means the hyperplane with the largest margin, which is the maximum distance between the data points of the classes. This margin-maximization approach makes SVMs robust and effective. The data points that are closest to the hyperplane and define the margin are called **support vectors**.\n",
    "\n",
    "### Applications of SVMs\n",
    "\n",
    "SVMs are used across various domains, including:\n",
    "\n",
    "  * **Image Classification**: Identifying objects in images.\n",
    "  * **Text Classification**: Categorizing documents, spam filtering.\n",
    "  * **Bioinformatics**: Classifying proteins and patients based on their genes.\n",
    "  * **Handwriting Recognition**.\n",
    "\n",
    "-----\n",
    "\n",
    "## The Project: Classifying Astronomical Objects\n",
    "\n",
    "We'll be working with a dataset for the classification of astronomical objects into three categories: **galaxies**, **stars**, and **quasars**. The prediction will be based on features derived from their light spectra and movement.\n",
    "\n",
    "Let's get started\\!\n",
    "\n",
    "### 1\\. Setup and Data Preparation\n",
    "\n",
    "First, we import the necessary libraries and load our dataset."
   ]
  },
  {
   "cell_type": "code",
   "execution_count": 1,
   "id": "418f1b27",
   "metadata": {},
   "outputs": [],
   "source": [
    "import numpy as np\n",
    "import pandas as pd\n",
    "from sklearn.preprocessing import StandardScaler\n",
    "from sklearn.metrics import f1_score, confusion_matrix, ConfusionMatrixDisplay\n",
    "import matplotlib.pyplot as plt"
   ]
  },
  {
   "cell_type": "markdown",
   "id": "3990b991",
   "metadata": {},
   "source": [
    "The dataset contains various identifiers and measurements. We'll drop the ID columns and separate our features (`X`) from our target variable (`y`)."
   ]
  },
  {
   "cell_type": "code",
   "execution_count": 2,
   "id": "46b224f6",
   "metadata": {},
   "outputs": [],
   "source": [
    "df = pd.read_csv('astronomy.csv')\n",
    "# Store the original class labels for later use\n",
    "orig_class = df['class'].copy()\n",
    "# Drop target and unneeded columns\n",
    "df = df.drop(['class','obj_ID','run_ID','rerun_ID','cam_col','field_ID','spec_obj_ID'], axis=1)"
   ]
  },
  {
   "cell_type": "markdown",
   "id": "e4175dbb",
   "metadata": {},
   "source": [
    "SVMs are sensitive to the scale of the features. Therefore, it's crucial to scale our data before feeding it to the model. We'll use `StandardScaler` from scikit-learn, which standardizes features by removing the mean and scaling to unit variance."
   ]
  },
  {
   "cell_type": "code",
   "execution_count": 3,
   "id": "c1c78b1c",
   "metadata": {},
   "outputs": [],
   "source": [
    "scaler = StandardScaler()\n",
    "scaled_data = scaler.fit_transform(df)\n",
    "\n",
    "# Create a new DataFrame with the scaled data\n",
    "scaled_df = pd.DataFrame(scaled_data, columns=df.columns)\n",
    "# Add the class labels back to the scaled DataFrame\n",
    "scaled_df['class'] = orig_class\n",
    "\n",
    "#subset for faster training!\n",
    "scaled_df = scaled_df[:10000] \n",
    "X = scaled_df.drop('class', axis=1)\n",
    "y = scaled_df['class']"
   ]
  },
  {
   "cell_type": "markdown",
   "id": "4b8da267",
   "metadata": {},
   "source": [
    "*Because the dataset contains a class imbalance (around 50% galaxies), we'll use the macro F1 score as our evaluation metric. This metric calculates the F1 score for each class independently and then averages them, treating all classes equally.*\n",
    "\n",
    "-----\n",
    "\n",
    "## 2\\. Implementing a Binary SVM From Scratch\n",
    "\n",
    "To start simple, we'll convert our multi-class problem into a binary one: classifying an object as a **star** or **not a star**. The SVM algorithm works best with numerical labels, so we'll encode \"STAR\" as `1` and the other classes (\"GALAXY\", \"QSO\") as `-1`.\n",
    "\n",
    "The core of our SVM is the training function, which uses gradient descent to find the optimal weights (`w`) and bias (`b`) for our hyperplane. The decision rule for a linear SVM is `y * (w·x + b) >= 1`. If a data point is misclassified (or inside the margin), its parameters are updated."
   ]
  },
  {
   "cell_type": "code",
   "execution_count": 4,
   "id": "dd48a03f",
   "metadata": {},
   "outputs": [
    {
     "name": "stderr",
     "output_type": "stream",
     "text": [
      "C:\\Users\\maxko\\AppData\\Local\\Temp\\ipykernel_684\\1148208301.py:29: FutureWarning: Downcasting behavior in `replace` is deprecated and will be removed in a future version. To retain the old behavior, explicitly call `result.infer_objects(copy=False)`. To opt-in to the future behavior, set `pd.set_option('future.no_silent_downcasting', True)`\n",
      "  binary_df['class'] = binary_df['class'].replace({'GALAXY':-1, 'STAR':1, 'QSO':-1})\n"
     ]
    },
    {
     "name": "stdout",
     "output_type": "stream",
     "text": [
      "Train data F1: 0.9796163875576239\n",
      "Test data F1: 0.9739223807332413\n"
     ]
    }
   ],
   "source": [
    "def train_base_svm(X, y, learning_rate=0.001, n_iterations=1000):\n",
    "    X = X.values\n",
    "    n_samples, n_features = X.shape\n",
    "    #initialize weights and  bias\n",
    "    w = np.zeros(n_features)\n",
    "    b = 0\n",
    "    # Gradient descent loop\n",
    "    for _ in range(n_iterations):\n",
    "        # Iterate over each sample\n",
    "        for idx, x_i in enumerate(X):\n",
    "            y_i = y[idx] # Label for the sample\n",
    "            # Check if the sample is misclassified or inside the margin\n",
    "            if y_i * (np.dot(x_i, w) + b) < 1:\n",
    "                # Update weights and bias if the condition is met\n",
    "                w = w + learning_rate * (y_i * x_i)\n",
    "                b = b + learning_rate * y_i\n",
    "    return w, b\n",
    "\n",
    "def predict_base_svm(X, w, b):\n",
    "    X = X.values\n",
    "    # Calculate the decision function\n",
    "    predictions = np.dot(X, w) + b\n",
    "    # Return the sign of the prediction, which corresponds to the class\n",
    "    return np.sign(predictions).astype(np.int8)\n",
    "\n",
    "# --- Binary Classification Workflow ---\n",
    "binary_df = scaled_df.copy()\n",
    "# Encode labels: STAR as 1, others as -1\n",
    "binary_df['class'] = binary_df['class'].replace({'GALAXY':-1, 'STAR':1, 'QSO':-1})\n",
    "#80/20 train-test split\n",
    "binary_train, binary_test = binary_df[:8000], binary_df[8000:]\n",
    "#Train the binary SVM\n",
    "weights, bias = train_base_svm(binary_train.drop('class', axis=1), binary_train['class'].values)\n",
    "#Make predictions on the training andf test set\n",
    "predictions_train = predict_base_svm(binary_train.drop('class', axis=1), weights, bias)\n",
    "predictions_test = predict_base_svm(binary_test.drop('class', axis=1), weights, bias)\n",
    "\n",
    "print('Train data F1:', f1_score(binary_train['class'].values, predictions_train, average='macro'))\n",
    "print('Test data F1:', f1_score(binary_test['class'].values, predictions_test, average='macro'))"
   ]
  },
  {
   "cell_type": "markdown",
   "id": "a85ea8d0",
   "metadata": {},
   "source": [
    "The output shows impressive results:"
   ]
  },
  {
   "cell_type": "markdown",
   "id": "21e1e013",
   "metadata": {},
   "source": [
    "train data f1: 0.9796\n",
    "\n",
    "test data f1: 0.9739"
   ]
  },
  {
   "cell_type": "markdown",
   "id": "14b4a62b",
   "metadata": {},
   "source": [
    "The binary linear SVM achieves a very high F1 score on both the training and test sets, with no signs of overfitting.\n",
    "\n",
    "-----\n",
    "\n",
    "## 3\\. Multi-Class SVM using One-vs-Rest (OVR)\n",
    "\n",
    "Now, let's tackle the original 3-class problem. We'll use the **One-vs-Rest (OVR)** strategy. In this approach, we train one binary classifier for each class. For example, the \"GALAXY\" classifier is trained to distinguish galaxies (`1`) from all other classes (`-1`). We do the same for \"STAR\" and \"QSO\".\n",
    "\n",
    "To make a prediction, a new data point is fed to all three classifiers. The classifier that returns the highest decision score (the highest value from `w·x + b`) wins, and its corresponding class is assigned to the data point."
   ]
  },
  {
   "cell_type": "code",
   "execution_count": 6,
   "id": "9d980f4c",
   "metadata": {},
   "outputs": [
    {
     "name": "stdout",
     "output_type": "stream",
     "text": [
      "training GALAXY vs. others...\n",
      "training QSO vs. others...\n",
      "training STAR vs. others...\n",
      "Train f1: 0.9016010848224502\n",
      "Test f1: 0.8866385088489878\n"
     ]
    }
   ],
   "source": [
    "def train_svm(X, y, learning_rate=0.01, n_iterations=1000, logging=True):\n",
    "    unique_classes = y.unique()\n",
    "    classifiers = {}\n",
    "    # Train one binary SVM for each class\n",
    "    for cls in unique_classes:\n",
    "        if logging:\n",
    "            print('training', cls, 'vs. others...')\n",
    "        # Create binary labels: 1 for the current class, -1 for all others\n",
    "        binary_y = np.where(y == cls, 1, -1)\n",
    "        # Train the base binary SVM\n",
    "        weights, bias = train_base_svm(X, binary_y, learning_rate, n_iterations)\n",
    "        classifiers[cls] = (weights, bias)\n",
    "\n",
    "    return classifiers\n",
    "\n",
    "def predict_svm(X, ovr_classifiers):\n",
    "    X_values = X.values\n",
    "    num_samples = X_values.shape[0]\n",
    "    class_labels = list(ovr_classifiers.keys())\n",
    "    num_classifiers = len(class_labels)\n",
    "    # Store the decision function scores for each classifier\n",
    "    scores = np.zeros((num_samples, num_classifiers))\n",
    "\n",
    "    # Get scores from each binary classifier\n",
    "    for i, cls in enumerate(class_labels):\n",
    "        weights, bias = ovr_classifiers[cls]\n",
    "        # Get the raw scores from the decision function\n",
    "        scores[:, i] = np.dot(X_values, weights) + bias\n",
    "\n",
    "    # The class with the highest score is the prediction\n",
    "    predicted_indices = np.argmax(scores, axis=1)\n",
    "    predicted_classes = np.array([class_labels[i] for i in predicted_indices])\n",
    "    \n",
    "    return predicted_classes\n",
    "\n",
    "\n",
    "# --- Multi-Class Classification Workflow ---\n",
    "#80/20 train-test split\n",
    "multi_train, multi_test = scaled_df[:8000], scaled_df[8000:]\n",
    "y_test_multi = multi_test['class']\n",
    "\n",
    "# Train the OVR SVM\n",
    "classifiers = train_svm(multi_train.drop('class', axis=1), multi_train['class'])\n",
    "\n",
    "# Make predictions on the train and test sets\n",
    "train_predictions = predict_svm(multi_train.drop('class', axis=1), classifiers)\n",
    "test_predictions = predict_svm(multi_test.drop('class', axis=1), classifiers)\n",
    "\n",
    "print('Train f1:', f1_score(multi_train['class'].values, train_predictions, average='macro'))\n",
    "print('Test f1:', f1_score(multi_test['class'].values, test_predictions, average='macro'))"
   ]
  },
  {
   "cell_type": "markdown",
   "id": "482dfb47",
   "metadata": {},
   "source": [
    "The performance for the multi-class task remains strong:"
   ]
  },
  {
   "cell_type": "markdown",
   "id": "1b4c8cf2",
   "metadata": {},
   "source": [
    "Train f1: 0.9016\n",
    "\n",
    "Test f1: 0.8866"
   ]
  },
  {
   "cell_type": "markdown",
   "id": "dacd918a",
   "metadata": {},
   "source": [
    "The F1 score is slightly lower than the binary case, as expected for a more complex problem, but it's still an excellent result for a linear classifier built from scratch.\n",
    "\n",
    "### 4\\. Analyzing the Results\n",
    "\n",
    "A **confusion matrix** helps us visualize where the model is making mistakes."
   ]
  },
  {
   "cell_type": "code",
   "execution_count": 7,
   "id": "7e2e35d8",
   "metadata": {},
   "outputs": [
    {
     "data": {
      "image/png": "[encoded data removed]",
      "text/plain": [
       "<Figure size 640x480 with 2 Axes>"
      ]
     },
     "metadata": {},
     "output_type": "display_data"
    }
   ],
   "source": [
    "cm = confusion_matrix(y_test_multi, test_predictions)\n",
    "disp = ConfusionMatrixDisplay(confusion_matrix=cm, display_labels=['galaxy', 'quasar', 'star'])\n",
    "disp.plot(cmap=plt.cm.Greens)\n",
    "plt.title('Confusion Matrix')\n",
    "plt.show()"
   ]
  },
  {
   "cell_type": "markdown",
   "id": "a660928a",
   "metadata": {},
   "source": [
    "From the matrix, we can see:\n",
    "\n",
    "  * All classes are identified with high accuracy.\n",
    "  * There's some confusion between galaxies and quasars.\n",
    "  * Interestingly, there are no confusions between quasars and stars. This is likely because stars have narrow, specific light spectra, while quasars have very broad spectra, making them easier to distinguish from each other.\n",
    "\n",
    "-----\n",
    "\n",
    "## Conclusion\n",
    "\n",
    "In this tutorial, we successfully built and understood the inner workings of a linear Support Vector Machine. We started with a binary classifier and extended it to a multi-class scenario using the One-vs-Rest approach. Our from-scratch implementation performed remarkably well on a real-world astronomical dataset.\n",
    "\n",
    "Given that we only used a linear kernel, the performance is great. The remaining misclassifications could likely be addressed by exploring non-linear kernels (like RBF or Polynomial), which allow the SVM to find more complex, non-linear decision boundaries."
   ]
  }
 ],
 "metadata": {
  "kernelspec": {
   "display_name": "Python 3",
   "language": "python",
   "name": "python3"
  },
  "language_info": {
   "codemirror_mode": {
    "name": "ipython",
    "version": 3
   },
   "file_extension": ".py",
   "mimetype": "text/x-python",
   "name": "python",
   "nbconvert_exporter": "python",
   "pygments_lexer": "ipython3",
   "version": "3.13.5"
  }
 },
 "nbformat": 4,
 "nbformat_minor": 5
}
